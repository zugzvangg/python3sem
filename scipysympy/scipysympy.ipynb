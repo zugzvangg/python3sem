{
 "cells": [
  {
   "cell_type": "markdown",
   "metadata": {},
   "source": [
    "## Задание №1"
   ]
  },
  {
   "cell_type": "code",
   "execution_count": 16,
   "metadata": {},
   "outputs": [],
   "source": [
    "from sympy import symbols, Matrix"
   ]
  },
  {
   "cell_type": "code",
   "execution_count": 7,
   "metadata": {},
   "outputs": [],
   "source": [
    "rho, mu, llambda=symbols(\"rho, mu, lambda\",real=True)"
   ]
  },
  {
   "cell_type": "code",
   "execution_count": 11,
   "metadata": {},
   "outputs": [],
   "source": [
    "import numpy\n",
    "from sympy import Matrix, zeros"
   ]
  },
  {
   "cell_type": "code",
   "execution_count": 52,
   "metadata": {
    "scrolled": true
   },
   "outputs": [
    {
     "data": {
      "text/latex": [
       "$\\displaystyle \\left[\\begin{matrix}0 & 0 & 0 & - \\frac{1}{\\rho} & 0 & 0 & 0 & 0 & 0\\\\0 & 0 & 0 & 0 & - \\frac{1}{\\rho} & 0 & 0 & 0 & 0\\\\0 & 0 & 0 & 0 & 0 & - \\frac{1}{\\rho} & 0 & 0 & 0\\\\- \\lambda - 2 \\mu & 0 & 0 & 0 & 0 & 0 & 0 & 0 & 0\\\\0 & - \\mu & 0 & 0 & 0 & 0 & 0 & 0 & 0\\\\0 & 0 & - \\mu & 0 & 0 & 0 & 0 & 0 & 0\\\\- \\lambda & 0 & 0 & 0 & 0 & 0 & 0 & 0 & 0\\\\0 & 0 & 0 & 0 & 0 & 0 & 0 & 0 & 0\\\\- \\lambda & 0 & 0 & 0 & 0 & 0 & 0 & 0 & 0\\end{matrix}\\right]$"
      ],
      "text/plain": [
       "Matrix([\n",
       "[             0,   0,   0, -1/rho,      0,      0, 0, 0, 0],\n",
       "[             0,   0,   0,      0, -1/rho,      0, 0, 0, 0],\n",
       "[             0,   0,   0,      0,      0, -1/rho, 0, 0, 0],\n",
       "[-lambda - 2*mu,   0,   0,      0,      0,      0, 0, 0, 0],\n",
       "[             0, -mu,   0,      0,      0,      0, 0, 0, 0],\n",
       "[             0,   0, -mu,      0,      0,      0, 0, 0, 0],\n",
       "[       -lambda,   0,   0,      0,      0,      0, 0, 0, 0],\n",
       "[             0,   0,   0,      0,      0,      0, 0, 0, 0],\n",
       "[       -lambda,   0,   0,      0,      0,      0, 0, 0, 0]])"
      ]
     },
     "execution_count": 52,
     "metadata": {},
     "output_type": "execute_result"
    }
   ],
   "source": [
    "A = Matrix([[0, 0, 0, -1/rho, 0, 0, 0, 0, 0],\n",
    "            [0, 0, 0,0, -1/rho, 0, 0, 0, 0],\n",
    "            [0, 0, 0,0,0, -1/rho, 0, 0, 0], \n",
    "            [-(llambda+2*mu), 0, 0, 0, 0, 0, 0, 0, 0], \n",
    "            [0, -mu, 0, 0, 0, 0, 0, 0,0],\n",
    "            [0,0, -mu, 0, 0, 0, 0, 0,0],\n",
    "           [-llambda, 0, 0, 0, 0, 0, 0,0,0 ],\n",
    "           [0, 0, 0, 0, 0, 0, 0,0,0 ],\n",
    "           [-llambda, 0, 0, 0, 0, 0, 0,0,0 ]])\n",
    "A"
   ]
  },
  {
   "cell_type": "code",
   "execution_count": 79,
   "metadata": {},
   "outputs": [
    {
     "name": "stdout",
     "output_type": "stream",
     "text": [
      "Собств.значение: -sqrt(lambda/rho + 2*mu/rho) ---кратность: 1\n",
      "Собств.значение: sqrt(lambda/rho + 2*mu/rho) ---кратность: 1\n",
      "Собств.значение: -sqrt(mu/rho) ---кратность: 2\n",
      "Собств.значение: sqrt(mu/rho) ---кратность: 2\n",
      "Собств.значение: 0 ---кратность: 3\n"
     ]
    }
   ],
   "source": [
    "for i in  A.eigenvals():\n",
    "    print ('Собств.значение:', i,'---кратность:' , A.eigenvals()[i])"
   ]
  },
  {
   "cell_type": "markdown",
   "metadata": {},
   "source": [
    "## Задание №2"
   ]
  },
  {
   "cell_type": "code",
   "execution_count": 176,
   "metadata": {},
   "outputs": [],
   "source": [
    "from scipy import linalg, integrate"
   ]
  },
  {
   "cell_type": "code",
   "execution_count": 147,
   "metadata": {},
   "outputs": [],
   "source": [
    "import matplotlib.pyplot as plt"
   ]
  },
  {
   "cell_type": "code",
   "execution_count": 220,
   "metadata": {
    "scrolled": true
   },
   "outputs": [
    {
     "name": "stdout",
     "output_type": "stream",
     "text": [
      "Solve: [ 2. -2.  9.]\n"
     ]
    },
    {
     "data": {
      "image/png": "[encoded data removed]",
      "text/plain": [
       "<Figure size 432x288 with 1 Axes>"
      ]
     },
     "metadata": {
      "needs_background": "light"
     },
     "output_type": "display_data"
    }
   ],
   "source": [
    "matr('1.txt')"
   ]
  },
  {
   "cell_type": "code",
   "execution_count": 221,
   "metadata": {},
   "outputs": [
    {
     "name": "stdout",
     "output_type": "stream",
     "text": [
      "Solve: [ 374.99999993  523.99999998  671.00000003  816.00000005  958.99999996\n",
      " 1100.00000001 1239.00000001 1375.99999996 1511.00000003 1644.00000003\n",
      " 1774.99999999 1904.00000001 2030.99999997 2156.00000005 2279.00000004\n",
      " 2400.00000008 2518.99999999 2636.00000005 2750.99999994 2863.99999991\n",
      " 2975.00000002 3083.99999999 3190.99999998 3296.00000008 3398.99999993\n",
      " 3499.99999993 3598.99999998 3696.         3790.99999991 3884.00000003\n",
      " 3974.99999997 4064.         4151.00000008 4236.00000005 4319.00000001\n",
      " 4399.99999996 4479.         4555.99999993 4630.99999996 4703.99999995\n",
      " 4775.00000003 4844.         4910.99999998 4975.99999994 5039.00000009\n",
      " 5100.00000002 5159.00000004 5216.         5271.00000001 5323.99999994\n",
      " 5374.99999999 5424.00000005 5471.         5515.99999991 5558.99999999\n",
      " 5600.00000004 5639.00000004 5676.00000001 5711.00000001 5744.00000003\n",
      " 5775.00000011 5803.99999996 5830.99999999 5856.00000001 5878.99999995\n",
      " 5900.00000002 5918.99999999 5936.00000002 5951.00000004 5964.00000004\n",
      " 5975.00000005 5984.00000001 5990.99999989 5995.99999997 5999.00000002\n",
      " 6000.00000004 5999.00000001 5995.99999998 5991.00000003 5983.99999997\n",
      " 5975.00000007 5963.99999996 5950.99999999 5935.99999991 5918.99999995\n",
      " 5899.99999998 5878.99999999 5856.00000004 5830.99999996 5803.99999999\n",
      " 5774.99999997 5743.99999998 5711.00000005 5675.99999996 5639.00000006\n",
      " 5599.99999994 5559.00000002 5516.00000003 5471.00000004 5424.00000005]\n"
     ]
    },
    {
     "data": {
      "image/png": "[encoded data removed]",
      "text/plain": [
       "<Figure size 432x288 with 1 Axes>"
      ]
     },
     "metadata": {
      "needs_background": "light"
     },
     "output_type": "display_data"
    }
   ],
   "source": [
    "matr('2.txt')"
   ]
  },
  {
   "cell_type": "code",
   "execution_count": 222,
   "metadata": {},
   "outputs": [],
   "source": [
    "def matr(path):\n",
    "    f = open(path, 'r')\n",
    "    n = int(f.readline())\n",
    "    l = [line.strip() for line in f]\n",
    "    ls = []\n",
    "    for i in l:\n",
    "        x = [float(j) for j in i.split()]\n",
    "        ls.append(x)\n",
    "    X = ls[0:n]\n",
    "    b = ls[-1]\n",
    "    a = linalg.solve(X, b)\n",
    "    print('Solve:', a)\n",
    "    fig = plt.figure()\n",
    "    ax = fig.add_axes([0,0,1,1])\n",
    "    langs = [x for x in range(n)]\n",
    "    students = a\n",
    "    ax.bar(langs,students)\n",
    "    plt.show()\n",
    "    f.close()\n",
    "    \n",
    "        "
   ]
  },
  {
   "cell_type": "markdown",
   "metadata": {},
   "source": [
    "## Задание №3"
   ]
  },
  {
   "cell_type": "code",
   "execution_count": 184,
   "metadata": {},
   "outputs": [
    {
     "data": {
      "text/latex": [
       "$\\displaystyle \\frac{d}{d x} y{\\left(x \\right)} = - 2 y{\\left(x \\right)}$"
      ],
      "text/plain": [
       "Eq(Derivative(y(x), x), -2*y(x))"
      ]
     },
     "execution_count": 184,
     "metadata": {},
     "output_type": "execute_result"
    }
   ],
   "source": [
    "y = Function('y')\n",
    "x = symbols('x')\n",
    "y0 = sqrt(2)\n",
    "equation = Eq(diff(y(x), x), -2*y(x))\n",
    "equation"
   ]
  },
  {
   "cell_type": "code",
   "execution_count": 185,
   "metadata": {},
   "outputs": [
    {
     "data": {
      "text/latex": [
       "$\\displaystyle y{\\left(x \\right)} = \\sqrt{2} e^{- 2 x}$"
      ],
      "text/plain": [
       "Eq(y(x), sqrt(2)*exp(-2*x))"
      ]
     },
     "execution_count": 185,
     "metadata": {},
     "output_type": "execute_result"
    }
   ],
   "source": [
    "solution = dsolve(eq = equation, ics={y(0): y0})\n",
    "solution"
   ]
  },
  {
   "cell_type": "code",
   "execution_count": 194,
   "metadata": {
    "scrolled": true
   },
   "outputs": [
    {
     "data": {
      "text/plain": [
       "[<matplotlib.lines.Line2D at 0x7fb3e20c9040>]"
      ]
     },
     "execution_count": 194,
     "metadata": {},
     "output_type": "execute_result"
    },
    {
     "data": {
      "image/png": "[encoded data removed]",
      "text/plain": [
       "<Figure size 432x288 with 1 Axes>"
      ]
     },
     "metadata": {
      "needs_background": "light"
     },
     "output_type": "display_data"
    }
   ],
   "source": [
    "x1 = numpy.linspace(0, 10, 100)\n",
    "y1 = [solution.subs({x: x2}).rhs for x2 in x1]\n",
    "plt.title('Solving by sympy')\n",
    "plt.xlabel('x')\n",
    "plt.ylabel('y')\n",
    "plt.plot(x1, y1)"
   ]
  },
  {
   "cell_type": "code",
   "execution_count": 218,
   "metadata": {
    "scrolled": true
   },
   "outputs": [
    {
     "data": {
      "text/plain": [
       "[<matplotlib.lines.Line2D at 0x7fb40c979880>]"
      ]
     },
     "execution_count": 218,
     "metadata": {},
     "output_type": "execute_result"
    },
    {
     "data": {
      "image/png": "[encoded data removed]",
      "text/plain": [
       "<Figure size 432x288 with 1 Axes>"
      ]
     },
     "metadata": {
      "needs_background": "light"
     },
     "output_type": "display_data"
    }
   ],
   "source": [
    "def solve(y, t):\n",
    "    return -2 * y\n",
    "y2 = integrate.odeint(solve, y0, xarray)\n",
    "plt.title('Solving by scipy')\n",
    "plt.xlabel('x')\n",
    "plt.ylabel('y')\n",
    "plt.plot(x1, y2)"
   ]
  },
  {
   "cell_type": "code",
   "execution_count": 224,
   "metadata": {},
   "outputs": [
    {
     "data": {
      "text/plain": [
       "[<matplotlib.lines.Line2D at 0x7fb40afb1160>]"
      ]
     },
     "execution_count": 224,
     "metadata": {},
     "output_type": "execute_result"
    },
    {
     "data": {
      "image/png": "[encoded data removed]",
      "text/plain": [
       "<Figure size 432x288 with 1 Axes>"
      ]
     },
     "metadata": {
      "needs_background": "light"
     },
     "output_type": "display_data"
    }
   ],
   "source": [
    "y3 = []\n",
    "for i in range(len(y1)):\n",
    "    y3.append(float(y1[i])-y2[i])\n",
    "plt.title('Diffenrence')\n",
    "plt.xlabel('x')\n",
    "plt.ylabel('y')\n",
    "plt.plot(x1, y3)"
   ]
  }
 ],
 "metadata": {
  "kernelspec": {
   "display_name": "Python 3",
   "language": "python",
   "name": "python3"
  },
  "language_info": {
   "codemirror_mode": {
    "name": "ipython",
    "version": 3
   },
   "file_extension": ".py",
   "mimetype": "text/x-python",
   "name": "python",
   "nbconvert_exporter": "python",
   "pygments_lexer": "ipython3",
   "version": "3.8.5"
  }
 },
 "nbformat": 4,
 "nbformat_minor": 4
}
